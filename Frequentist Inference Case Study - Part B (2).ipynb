{
  "cells": [
    {
      "cell_type": "markdown",
      "source": [
        "# Frequentist Inference Case Study - Part B"
      ],
      "metadata": {
        "nteract": {
          "transient": {
            "deleting": false
          }
        }
      }
    },
    {
      "cell_type": "markdown",
      "source": [
        "## Learning objectives"
      ],
      "metadata": {
        "nteract": {
          "transient": {
            "deleting": false
          }
        }
      }
    },
    {
      "cell_type": "markdown",
      "source": [
        "Welcome to Part B of the Frequentist inference case study! The purpose of this case study is to help you apply the concepts associated with Frequentist inference in Python. In particular, you'll practice writing Python code to apply the following statistical concepts:\n",
        "* the _z_-statistic\n",
        "* the _t_-statistic\n",
        "* the difference and relationship between the two\n",
        "* the Central Limit Theorem, including its assumptions and consequences\n",
        "* how to estimate the population mean and standard deviation from a sample\n",
        "* the concept of a sampling distribution of a test statistic, particularly for the mean\n",
        "* how to combine these concepts to calculate a confidence interval"
      ],
      "metadata": {
        "nteract": {
          "transient": {
            "deleting": false
          }
        }
      }
    },
    {
      "cell_type": "markdown",
      "source": [
        "In the previous notebook, we used only data from a known normal distribution. **You'll now tackle real data, rather than simulated data, and answer some relevant real-world business problems using the data.**"
      ],
      "metadata": {
        "nteract": {
          "transient": {
            "deleting": false
          }
        }
      }
    },
    {
      "cell_type": "markdown",
      "source": [
        "## Hospital medical charges"
      ],
      "metadata": {
        "nteract": {
          "transient": {
            "deleting": false
          }
        }
      }
    },
    {
      "cell_type": "markdown",
      "source": [
        "Imagine that a hospital has hired you as their data scientist. An administrator is working on the hospital's business operations plan and needs you to help them answer some business questions.\n",
        "\n",
        "In this assignment notebook, you're going to use frequentist statistical inference on a data sample to answer the questions:\n",
        "* has the hospital's revenue stream fallen below a key threshold?\n",
        "* are patients with insurance really charged different amounts than those without?\n",
        "\n",
        "Answering that last question with a frequentist approach makes some assumptions, and requires some knowledge, about the two groups."
      ],
      "metadata": {
        "nteract": {
          "transient": {
            "deleting": false
          }
        }
      }
    },
    {
      "cell_type": "markdown",
      "source": [
        "We are going to use some data on medical charges obtained from [Kaggle](https://www.kaggle.com/easonlai/sample-insurance-claim-prediction-dataset).\n",
        "\n",
        "For the purposes of this exercise, assume the observations are the result of random sampling from our single hospital. Recall that in the previous assignment, we introduced the Central Limit Theorem (CLT), and its consequence that the distributions of sample statistics approach a normal distribution as $n$ increases. The amazing thing about this is that it applies to the sampling distributions of statistics that have been calculated from even highly non-normal distributions of data! Recall, also, that hypothesis testing is very much based on making inferences about such sample statistics. You're going to rely heavily on the CLT to apply frequentist (parametric) tests to answer the questions in this notebook."
      ],
      "metadata": {
        "nteract": {
          "transient": {
            "deleting": false
          }
        }
      }
    },
    {
      "cell_type": "code",
      "source": [
        "import pandas as pd\n",
        "import numpy as np\n",
        "import matplotlib.pyplot as plt\n",
        "from scipy.stats import t\n",
        "import scipy.stats\n",
        "from numpy.random import seed\n",
        "medical = pd.read_csv('data/insurance2.csv')"
      ],
      "outputs": [],
      "execution_count": null,
      "metadata": {
        "collapsed": true,
        "jupyter": {
          "source_hidden": false,
          "outputs_hidden": false
        },
        "nteract": {
          "transient": {
            "deleting": false
          }
        }
      }
    },
    {
      "cell_type": "code",
      "source": [
        "medical.shape"
      ],
      "outputs": [],
      "execution_count": null,
      "metadata": {
        "collapsed": true,
        "jupyter": {
          "source_hidden": false,
          "outputs_hidden": false
        },
        "nteract": {
          "transient": {
            "deleting": false
          }
        }
      }
    },
    {
      "cell_type": "code",
      "source": [
        "medical.head()"
      ],
      "outputs": [],
      "execution_count": null,
      "metadata": {
        "collapsed": true,
        "jupyter": {
          "source_hidden": false,
          "outputs_hidden": false
        },
        "nteract": {
          "transient": {
            "deleting": false
          }
        }
      }
    },
    {
      "cell_type": "markdown",
      "source": [
        "__Q1:__ Plot the histogram of charges and calculate the mean and standard deviation. Comment on the appropriateness of these statistics for the data."
      ],
      "metadata": {
        "nteract": {
          "transient": {
            "deleting": false
          }
        }
      }
    },
    {
      "cell_type": "markdown",
      "source": [
        "__A:__ From the data we can tell that the standard deviation does not offer a wide spread of charges versus the highest charge in the data set. (\\$12,105.48 $vs$ \\$63,770.43)."
      ],
      "metadata": {
        "nteract": {
          "transient": {
            "deleting": false
          }
        }
      }
    },
    {
      "cell_type": "code",
      "source": [
        "medical_std = np.std(medical['charges'])\n",
        "print('$' + str(round(medical_std, 2)))\n",
        "print('$' + str(round(max(medical['charges']), 2)))\n"
      ],
      "outputs": [],
      "execution_count": null,
      "metadata": {
        "collapsed": true,
        "jupyter": {
          "source_hidden": false,
          "outputs_hidden": false
        },
        "nteract": {
          "transient": {
            "deleting": false
          }
        }
      }
    },
    {
      "cell_type": "code",
      "source": [
        "plt.hist(medical['charges'], bins = 20)\n",
        "plt.xlabel('Freqency of charges')\n",
        "plt.ylabel('Charge Amount')\n",
        "plt.title('Medical Charges')\n",
        "plt.axvline(medical_std, color='orange', label='Standard Deviation' )\n",
        "plt.xticks(range(0 , int(max(medical['charges'])) + 1, 3000), rotation=90)\n",
        "plt.legend()"
      ],
      "outputs": [],
      "execution_count": null,
      "metadata": {
        "collapsed": true,
        "jupyter": {
          "source_hidden": false,
          "outputs_hidden": false
        },
        "nteract": {
          "transient": {
            "deleting": false
          }
        }
      }
    },
    {
      "cell_type": "markdown",
      "source": [
        "__Q2:__ The administrator is concerned that the actual average charge has fallen below 12,000, threatening the hospital's operational model. On the assumption that these data represent a random sample of charges, how would you justify that these data allow you to answer that question? And what would be the most appropriate frequentist test, of the ones discussed so far, to apply?"
      ],
      "metadata": {
        "nteract": {
          "transient": {
            "deleting": false
          }
        }
      }
    },
    {
      "cell_type": "code",
      "source": [
        "medical['charges'].describe()"
      ],
      "outputs": [],
      "execution_count": null,
      "metadata": {
        "collapsed": true,
        "jupyter": {
          "source_hidden": false,
          "outputs_hidden": false
        },
        "nteract": {
          "transient": {
            "deleting": false
          }
        }
      }
    },
    {
      "cell_type": "markdown",
      "source": [
        "__A:__  Becasue this a sample of data and not the entire population of data that mean may not be correct. In actuallity, if we aquire more samples we will likely see the curve of the distrobution widen reflecting the latter half of a normal distobution."
      ],
      "metadata": {
        "nteract": {
          "transient": {
            "deleting": false
          }
        }
      }
    },
    {
      "cell_type": "markdown",
      "source": [
        "__Q3:__ Given the nature of the administrator's concern, what is the appropriate confidence interval in this case? A ***one-sided*** or ***two-sided*** interval? (Refresh your understanding of this concept on p. 399 of the *AoS*). Calculate the critical value and the relevant 95% confidence interval for the mean, and comment on whether the administrator should be concerned."
      ],
      "metadata": {
        "nteract": {
          "transient": {
            "deleting": false
          }
        }
      }
    },
    {
      "cell_type": "markdown",
      "source": [
        "__A:__ The critical value is 13272.067118768207. for a 95% confidence interval. This illustrates that there is a possiblity that the administrator's worries are warrented."
      ],
      "metadata": {
        "nteract": {
          "transient": {
            "deleting": false
          }
        }
      }
    },
    {
      "cell_type": "code",
      "source": [
        "scipy.stats.norm(np.mean(medical['charges'])).ppf(0.95)\n"
      ],
      "outputs": [],
      "execution_count": null,
      "metadata": {
        "collapsed": true,
        "jupyter": {
          "source_hidden": false,
          "outputs_hidden": false
        },
        "nteract": {
          "transient": {
            "deleting": false
          }
        }
      }
    },
    {
      "cell_type": "code",
      "source": [
        "import scipy\n",
        "def mean_confidence_interval(data, confidence=0.95):\n",
        "    a = 1.0 * np.array(data)\n",
        "    n = len(a)\n",
        "    m, se = np.mean(a), scipy.stats.sem(a)\n",
        "    h = se * scipy.stats.norm.ppf((1 + confidence) / 2., n-1)\n",
        "    return m, m-h, m+h\n",
        "\n",
        "mci = mean_confidence_interval(medical['charges'])"
      ],
      "outputs": [],
      "execution_count": null,
      "metadata": {
        "collapsed": true,
        "jupyter": {
          "source_hidden": false,
          "outputs_hidden": false
        },
        "nteract": {
          "transient": {
            "deleting": false
          }
        }
      }
    },
    {
      "cell_type": "markdown",
      "source": [
        "The administrator then wants to know whether people with insurance really are charged a different amount to those without.\n",
        "\n",
        "__Q4:__ State the null and alternative hypothesis here. Use the _t_-test for the difference between means, where the pooled standard deviation of the two groups is given by:\n",
        "\\begin{equation}\n",
        "s_p = \\sqrt{\\frac{(n_0 - 1)s^2_0 + (n_1 - 1)s^2_1}{n_0 + n_1 - 2}}\n",
        "\\end{equation}\n",
        "\n",
        "and the *t*-test statistic is then given by:\n",
        "\n",
        "\\begin{equation}\n",
        "t = \\frac{\\bar{x}_0 - \\bar{x}_1}{s_p \\sqrt{1/n_0 + 1/n_1}}.\n",
        "\\end{equation}\n",
        "\n",
        "(If you need some reminding of the general definition of ***t-statistic***, check out the definition on p. 404 of *AoS*).\n",
        "\n",
        "What assumption about the variances of the two groups are we making here?"
      ],
      "metadata": {
        "nteract": {
          "transient": {
            "deleting": false
          }
        }
      }
    },
    {
      "cell_type": "code",
      "source": [],
      "outputs": [],
      "execution_count": null,
      "metadata": {
        "collapsed": true,
        "jupyter": {
          "source_hidden": false,
          "outputs_hidden": false
        },
        "nteract": {
          "transient": {
            "deleting": false
          }
        }
      }
    },
    {
      "cell_type": "markdown",
      "source": [
        "__A:__\n",
        "\n",
        "null: \"The patients with insurance are charged nearly the same amount as those with insurance.\"\n",
        "\n",
        "alternative: \"Patients with insurance are charged a different amount than those without insurance. \"\n",
        "\n",
        "Given the analysis above and the P-Value of 4.461230231620717e-31%, we can safely reject the null hypothesis.\n",
        "\n",
        "This finding concludes that patients with insurance are charged more on average than patients without."
      ],
      "metadata": {
        "nteract": {
          "transient": {
            "deleting": false
          }
        }
      }
    },
    {
      "cell_type": "markdown",
      "source": [
        "__Q5:__ Perform this hypothesis test both manually, using the above formulae, and then using the appropriate function from [scipy.stats](https://docs.scipy.org/doc/scipy/reference/stats.html#statistical-tests) (hint, you're looking for a function to perform a _t_-test on two independent samples). For the manual approach, calculate the value of the test statistic and then its probability (the p-value). Verify you get the same results from both.\n",
        "__A:__"
      ],
      "metadata": {
        "nteract": {
          "transient": {
            "deleting": false
          }
        }
      }
    },
    {
      "cell_type": "code",
      "source": [
        "medical['insuranceclaim']\n",
        "charges_with_insurance = medical[medical['insuranceclaim'] == True]['charges']\n",
        "charges_without_insurance = medical[medical['insuranceclaim'] == False]['charges']\n",
        "print(scipy.stats.ttest_ind(charges_with_insurance, charges_without_insurance))\n",
        "\n",
        "plt.plot(sorted(charges_with_insurance), color='blue', label='With Insurance')\n",
        "plt.plot(sorted(charges_without_insurance), color='orange', label='Without Insurance')\n",
        "plt.title('Distribution of charges (with vs without insurance)')\n",
        "plt.xlabel('Number of observations')\n",
        "plt.ylabel('Charge Amount')\n",
        "#plt.axvline(175, color='purple')\n",
        "plt.legend()\n",
        "plt.show()\n",
        "print('with\\n' + str(charges_with_insurance.describe()))\n",
        "print('without\\n' + str(charges_without_insurance.describe()))"
      ],
      "outputs": [],
      "execution_count": null,
      "metadata": {
        "collapsed": true,
        "jupyter": {
          "source_hidden": false,
          "outputs_hidden": false
        },
        "nteract": {
          "transient": {
            "deleting": false
          }
        }
      }
    },
    {
      "cell_type": "code",
      "source": [
        " # s_p = \\sqrt{\\frac{(n_0 - 1)s^2_0 + (n_1 - 1)s^2_1}{n_0 + n_1 - 2}}\n",
        " # t = \\frac{\\bar{x}_0 - \\bar{x}_1}{s_p \\sqrt{1/n_0 + 1/n_1}}.\n",
        "def t_test(data1, data2):\n",
        "# calculate means\n",
        "    mean1, mean2 = np.mean(data1), np.mean(data2)\n",
        "# calculate sample standard deviations\n",
        "    std1, std2 = np.std(data1, ddof=1), np.std(data2, ddof=1)\n",
        "# calculate standard errors\n",
        "    n1, n2 = len(data1), len(data2)\n",
        "    se1, se2 = std1/np.sqrt(n1), std2/np.sqrt(n2)\n",
        "\n",
        "# standard error on the difference between the samples\n",
        "    sed = np.sqrt(se1**2.0 + se2**2.0)\n",
        "\n",
        "\n",
        "#  calculate the t statistic\n",
        "    t_stat = (mean1 - mean2) / sed\n",
        "\n",
        "\n",
        "    # calculate the p-value\n",
        "\n",
        "    return t_stat\n",
        "\n",
        "t_test(charges_with_insurance, charges_without_insurance)\n",
        "\n",
        "\n"
      ],
      "outputs": [],
      "execution_count": null,
      "metadata": {
        "collapsed": true,
        "jupyter": {
          "source_hidden": false,
          "outputs_hidden": false
        },
        "nteract": {
          "transient": {
            "deleting": false
          }
        }
      }
    },
    {
      "cell_type": "markdown",
      "source": [
        "Congratulations! Hopefully you got the exact same numerical results. This shows that you correctly calculated the numbers by hand. Secondly, you used the correct function and saw that it's much easier to use. All you need to do is pass your data to it."
      ],
      "metadata": {
        "nteract": {
          "transient": {
            "deleting": false
          }
        }
      }
    },
    {
      "cell_type": "markdown",
      "source": [
        "__Q6:__ Conceptual question: look through the documentation for statistical test functions in scipy.stats. You'll see the above _t_-test for a sample, but can you see an equivalent one for performing a *z*-test from a sample? Comment on your answer."
      ],
      "metadata": {
        "nteract": {
          "transient": {
            "deleting": false
          }
        }
      }
    },
    {
      "cell_type": "markdown",
      "source": [
        "__A:__ The equivalent function in scipy the percent point function or PPF. If we input the mean, this will return the critical value or the Z - score. From this formula we can input the confidence interval. "
      ],
      "metadata": {
        "nteract": {
          "transient": {
            "deleting": false
          }
        }
      }
    },
    {
      "cell_type": "markdown",
      "source": [
        "## Learning outcomes"
      ],
      "metadata": {
        "nteract": {
          "transient": {
            "deleting": false
          }
        }
      }
    },
    {
      "cell_type": "markdown",
      "source": [
        "Having completed this project notebook, you now have good hands-on experience:\n",
        "* using the central limit theorem to help you apply frequentist techniques to answer questions that pertain to very non-normally distributed data from the real world\n",
        "* performing inference using such data to answer business questions\n",
        "* forming a hypothesis and framing the null and alternative hypotheses\n",
        "* testing this using a _t_-test"
      ],
      "metadata": {
        "nteract": {
          "transient": {
            "deleting": false
          }
        }
      }
    }
  ],
  "metadata": {
    "kernelspec": {
      "argv": [
        "/home/kalen/anaconda3/bin/python",
        "-m",
        "ipykernel_launcher",
        "-f",
        "{connection_file}"
      ],
      "display_name": "Python 3",
      "language": "python",
      "name": "python3"
    }
  },
  "nbformat": 4,
  "nbformat_minor": 0
}